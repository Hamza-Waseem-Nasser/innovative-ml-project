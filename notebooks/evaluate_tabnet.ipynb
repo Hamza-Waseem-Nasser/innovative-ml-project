{
 "cells": [
  {
   "cell_type": "code",
   "execution_count": 1,
   "id": "7898ff66",
   "metadata": {},
   "outputs": [],
   "source": [
    "# evaluate_tabnet.py\n",
    "import pandas as pd\n",
    "import numpy as np\n",
    "import joblib\n",
    "from sklearn.model_selection import train_test_split\n",
    "from sklearn.metrics import mean_squared_error\n",
    "from sklearn.preprocessing import OrdinalEncoder, StandardScaler\n",
    "from pytorch_tabnet.tab_model import TabNetRegressor"
   ]
  },
  {
   "cell_type": "code",
   "execution_count": 2,
   "id": "848d4830",
   "metadata": {},
   "outputs": [
    {
     "name": "stdout",
     "output_type": "stream",
     "text": [
      "✅ Loaded cleaned data: (779495, 10)\n"
     ]
    }
   ],
   "source": [
    "# 1) Load cleaned transaction data\n",
    "df = pd.read_csv(\"../data/transactions_clean.csv\", parse_dates=[\"InvoiceDate\"])\n",
    "print(\"✅ Loaded cleaned data:\", df.shape)"
   ]
  },
  {
   "cell_type": "code",
   "execution_count": 3,
   "id": "eb160075",
   "metadata": {},
   "outputs": [],
   "source": [
    "\n",
    "# 2) Feature engineering (must match train_tabnet.py)\n",
    "df[\"hour\"]        = df[\"InvoiceDate\"].dt.hour\n",
    "df[\"day_of_week\"] = df[\"InvoiceDate\"].dt.dayofweek\n",
    "df[\"month\"]       = df[\"InvoiceDate\"].dt.month"
   ]
  },
  {
   "cell_type": "code",
   "execution_count": 4,
   "id": "09ad33bf",
   "metadata": {},
   "outputs": [],
   "source": [
    "# 3) Define features & target\n",
    "categorical_cols = [\"StockCode\", \"Country\"]\n",
    "numerical_cols   = [\"Quantity\", \"Price\", \"hour\", \"day_of_week\", \"month\"]\n",
    "features         = categorical_cols + numerical_cols\n",
    "target           = \"TotalPrice\""
   ]
  },
  {
   "cell_type": "code",
   "execution_count": 5,
   "id": "dd097c70",
   "metadata": {},
   "outputs": [
    {
     "name": "stdout",
     "output_type": "stream",
     "text": [
      "✅ Split data → train: (623596, 7), test: (155899, 7)\n"
     ]
    }
   ],
   "source": [
    "# 4) Build X, y (no encoding yet)\n",
    "X = df[features]\n",
    "y = df[target].values.reshape(-1, 1)\n",
    "\n",
    "# 5) Split into train/test so test only contains seen categories\n",
    "X_train, X_test, y_train, y_test = train_test_split(\n",
    "    X, y, test_size=0.2, random_state=42\n",
    ")\n",
    "print(f\"✅ Split data → train: {X_train.shape}, test: {X_test.shape}\")\n",
    "\n",
    "\n"
   ]
  },
  {
   "cell_type": "code",
   "execution_count": 6,
   "id": "2a7539a8",
   "metadata": {},
   "outputs": [
    {
     "name": "stdout",
     "output_type": "stream",
     "text": [
      "✅ Applied OrdinalEncoder with handle_unknown for: ['StockCode', 'Country']\n"
     ]
    }
   ],
   "source": [
    "# 6) Apply OrdinalEncoder with handling for unknown values on categorical columns\n",
    "# Ensure the categorical columns are treated as strings\n",
    "X_train[categorical_cols] = X_train[categorical_cols].astype(str)\n",
    "X_test[categorical_cols] = X_test[categorical_cols].astype(str)\n",
    "\n",
    "# Initialize and fit the encoder on training data only\n",
    "encoder = OrdinalEncoder(handle_unknown='use_encoded_value', unknown_value=-1)\n",
    "encoder.fit(X_train[categorical_cols])\n",
    "\n",
    "# Transform both train and test data\n",
    "X_train[categorical_cols] = encoder.transform(X_train[categorical_cols])\n",
    "X_test[categorical_cols] = encoder.transform(X_test[categorical_cols])\n",
    "print(\"✅ Applied OrdinalEncoder with handle_unknown for:\", categorical_cols)\n"
   ]
  },
  {
   "cell_type": "code",
   "execution_count": 7,
   "id": "b8b09c00",
   "metadata": {},
   "outputs": [],
   "source": [
    "\n",
    "# 7) Convert DataFrames to numpy arrays before scaling/model\n",
    "X_train = X_train.values\n",
    "X_test  = X_test.values"
   ]
  },
  {
   "cell_type": "code",
   "execution_count": 9,
   "id": "7963f13d",
   "metadata": {},
   "outputs": [
    {
     "name": "stdout",
     "output_type": "stream",
     "text": [
      "✅ Scaled numerical features with saved scaler\n"
     ]
    }
   ],
   "source": [
    "# 8) Load the saved StandardScaler and apply it to numerical features\n",
    "num_start = len(categorical_cols)  # numerical columns start after categorical ones\n",
    "\n",
    "# Instead of fitting a new scaler, load the one saved during training\n",
    "scaler = joblib.load(\"../models/scaler_num.pkl\")\n",
    "X_test[:, num_start:] = scaler.transform(X_test[:, num_start:])\n",
    "print(\"✅ Scaled numerical features with saved scaler\")"
   ]
  },
  {
   "cell_type": "code",
   "execution_count": 11,
   "id": "b996eb28",
   "metadata": {},
   "outputs": [
    {
     "name": "stdout",
     "output_type": "stream",
     "text": [
      "✅ TabNet model loaded\n"
     ]
    },
    {
     "name": "stderr",
     "output_type": "stream",
     "text": [
      "c:\\Users\\hp\\Innovative-ml-project\\NEW-ML-PROJECT\\.venv\\Lib\\site-packages\\pytorch_tabnet\\abstract_model.py:82: UserWarning: Device used : cpu\n",
      "  warnings.warn(f\"Device used : {self.device}\")\n"
     ]
    }
   ],
   "source": [
    "# 9) Load the fine‑tuned TabNet model\n",
    "reg = TabNetRegressor()\n",
    "reg.load_model(\"../models/tabnet_regressor.zip\")  # Note: fixed the filename\n",
    "print(\"✅ TabNet model loaded\")"
   ]
  },
  {
   "cell_type": "code",
   "execution_count": 12,
   "id": "2d855975",
   "metadata": {},
   "outputs": [
    {
     "name": "stdout",
     "output_type": "stream",
     "text": [
      "\n",
      "🎯 Test RMSE: 144.8661\n"
     ]
    }
   ],
   "source": [
    "# 10) Predict & evaluate\n",
    "y_pred = reg.predict(X_test)\n",
    "\n",
    "# Flatten the arrays in case they are (n, 1)\n",
    "y_test_flat = y_test.flatten()\n",
    "y_pred_flat = y_pred.flatten()\n",
    "\n",
    "rmse = np.sqrt(mean_squared_error(y_test_flat, y_pred_flat))\n",
    "print(f\"\\n🎯 Test RMSE: {rmse:.4f}\")"
   ]
  },
  {
   "cell_type": "code",
   "execution_count": null,
   "id": "b2a6a942",
   "metadata": {},
   "outputs": [],
   "source": []
  }
 ],
 "metadata": {
  "kernelspec": {
   "display_name": ".venv",
   "language": "python",
   "name": "python3"
  },
  "language_info": {
   "codemirror_mode": {
    "name": "ipython",
    "version": 3
   },
   "file_extension": ".py",
   "mimetype": "text/x-python",
   "name": "python",
   "nbconvert_exporter": "python",
   "pygments_lexer": "ipython3",
   "version": "3.13.1"
  }
 },
 "nbformat": 4,
 "nbformat_minor": 5
}
