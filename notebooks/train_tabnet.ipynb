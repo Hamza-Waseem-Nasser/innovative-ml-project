{
 "cells": [
  {
   "cell_type": "code",
   "execution_count": 12,
   "id": "25416d59",
   "metadata": {},
   "outputs": [],
   "source": [
    "import pandas as pd\n",
    "import numpy as np\n",
    "from sklearn.model_selection import train_test_split\n",
    "from sklearn.preprocessing import LabelEncoder, StandardScaler\n",
    "from pytorch_tabnet.pretraining import TabNetPretrainer\n",
    "from pytorch_tabnet.tab_model import TabNetRegressor\n",
    "import torch\n",
    "import joblib"
   ]
  },
  {
   "cell_type": "code",
   "execution_count": 13,
   "id": "3be9dfc8",
   "metadata": {},
   "outputs": [
    {
     "name": "stdout",
     "output_type": "stream",
     "text": [
      "Loaded transactions: (619215, 10)\n"
     ]
    }
   ],
   "source": [
    "# 1) Load the cleaned transactions\n",
    "df = pd.read_csv(\"../data/transactions_clean.csv\", parse_dates=[\"InvoiceDate\"])\n",
    "print(\"Loaded transactions:\", df.shape)\n",
    "\n",
    "# 2) Feature Engineering\n",
    "# ──────────────────────\n",
    "# Extract time features\n",
    "df[\"hour\"] = df[\"InvoiceDate\"].dt.hour\n",
    "df[\"day_of_week\"] = df[\"InvoiceDate\"].dt.dayofweek\n",
    "df[\"month\"] = df[\"InvoiceDate\"].dt.month"
   ]
  },
  {
   "cell_type": "code",
   "execution_count": 14,
   "id": "add15151",
   "metadata": {},
   "outputs": [
    {
     "name": "stdout",
     "output_type": "stream",
     "text": [
      "<class 'pandas.core.frame.DataFrame'>\n",
      "RangeIndex: 619215 entries, 0 to 619214\n",
      "Data columns (total 13 columns):\n",
      " #   Column       Non-Null Count   Dtype         \n",
      "---  ------       --------------   -----         \n",
      " 0   Invoice      619215 non-null  int64         \n",
      " 1   StockCode    619215 non-null  object        \n",
      " 2   Description  619215 non-null  object        \n",
      " 3   Quantity     619215 non-null  int64         \n",
      " 4   InvoiceDate  619215 non-null  datetime64[ns]\n",
      " 5   Price        619215 non-null  float64       \n",
      " 6   Customer ID  619215 non-null  float64       \n",
      " 7   Country      619215 non-null  object        \n",
      " 8   TotalPrice   619215 non-null  float64       \n",
      " 9   Month        619215 non-null  object        \n",
      " 10  hour         619215 non-null  int32         \n",
      " 11  day_of_week  619215 non-null  int32         \n",
      " 12  month        619215 non-null  int32         \n",
      "dtypes: datetime64[ns](1), float64(3), int32(3), int64(2), object(4)\n",
      "memory usage: 54.3+ MB\n"
     ]
    }
   ],
   "source": [
    "df.info()"
   ]
  },
  {
   "cell_type": "code",
   "execution_count": 15,
   "id": "bcc8e90b",
   "metadata": {},
   "outputs": [],
   "source": [
    "# Define features and target\n",
    "target = \"TotalPrice\"\n",
    "categorical_cols = [\"StockCode\", \"Country\"]\n",
    "numerical_cols   = [\"Quantity\", \"Price\", \"hour\", \"day_of_week\", \"month\"]\n",
    "features = categorical_cols + numerical_cols\n",
    "\n",
    "# 3) Encode categoricals\n",
    "for col in categorical_cols:\n",
    "    le = LabelEncoder()\n",
    "    df[col] = le.fit_transform(df[col].astype(str))\n",
    "    joblib.dump(le, f\"../models/enc_{col}.pkl\")  # save encoders"
   ]
  },
  {
   "cell_type": "code",
   "execution_count": 16,
   "id": "16f0ac8d",
   "metadata": {},
   "outputs": [],
   "source": [
    "# 4) Prepare data arrays\n",
    "X = df[features].values\n",
    "y = df[target].values.reshape(-1, 1)"
   ]
  },
  {
   "cell_type": "code",
   "execution_count": 17,
   "id": "23ba6660",
   "metadata": {},
   "outputs": [
    {
     "name": "stdout",
     "output_type": "stream",
     "text": [
      "Train size: (495372, 7) Test size: (123843, 7)\n"
     ]
    }
   ],
   "source": [
    "# 5) Split into train/test\n",
    "X_train, X_test, y_train, y_test = train_test_split(\n",
    "    X, y, test_size=0.2, random_state=42\n",
    ")\n",
    "print(\"Train size:\", X_train.shape, \"Test size:\", X_test.shape)"
   ]
  },
  {
   "cell_type": "code",
   "execution_count": 18,
   "id": "9e84bc23",
   "metadata": {},
   "outputs": [
    {
     "data": {
      "text/plain": [
       "['../models/scaler_num.pkl']"
      ]
     },
     "execution_count": 18,
     "metadata": {},
     "output_type": "execute_result"
    }
   ],
   "source": [
    "# 6) Scale numerical features\n",
    "#    We scale only the numerical part of X\n",
    "num_start = len(categorical_cols)\n",
    "scaler = StandardScaler()\n",
    "X_train[:, num_start:] = scaler.fit_transform(X_train[:, num_start:])\n",
    "X_test[:, num_start:]  = scaler.transform(X_test[:, num_start:])\n",
    "joblib.dump(scaler, \"../models/scaler_num.pkl\")"
   ]
  },
  {
   "cell_type": "code",
   "execution_count": 19,
   "id": "3515cec9",
   "metadata": {},
   "outputs": [
    {
     "name": "stderr",
     "output_type": "stream",
     "text": [
      "c:\\Users\\hp\\Innovative-ml-project\\NEW-ML-PROJECT\\.venv\\Lib\\site-packages\\pytorch_tabnet\\abstract_model.py:82: UserWarning: Device used : cpu\n",
      "  warnings.warn(f\"Device used : {self.device}\")\n",
      "c:\\Users\\hp\\Innovative-ml-project\\NEW-ML-PROJECT\\.venv\\Lib\\site-packages\\pytorch_tabnet\\abstract_model.py:687: UserWarning: No early stopping will be performed, last training weights will be used.\n",
      "  warnings.warn(wrn_msg)\n"
     ]
    },
    {
     "name": "stdout",
     "output_type": "stream",
     "text": [
      "epoch 0  | loss: 1.60579 |  0:00:52s\n",
      "epoch 1  | loss: 1.10068 |  0:01:50s\n",
      "epoch 2  | loss: 1.00544 |  0:02:49s\n",
      "epoch 3  | loss: 0.99817 |  0:03:51s\n",
      "epoch 4  | loss: 0.99776 |  0:04:49s\n",
      "epoch 5  | loss: 0.99624 |  0:05:43s\n",
      "epoch 6  | loss: 0.99429 |  0:06:40s\n",
      "epoch 7  | loss: 0.99361 |  0:07:48s\n",
      "epoch 8  | loss: 0.99011 |  0:08:57s\n",
      "epoch 9  | loss: 0.99171 |  0:10:05s\n",
      "epoch 10 | loss: 0.98976 |  0:11:11s\n",
      "epoch 11 | loss: 0.98924 |  0:12:16s\n",
      "epoch 12 | loss: 0.98908 |  0:13:20s\n",
      "epoch 13 | loss: 0.98722 |  0:14:21s\n",
      "epoch 14 | loss: 0.98578 |  0:15:22s\n",
      "epoch 15 | loss: 0.98541 |  0:16:21s\n",
      "epoch 16 | loss: 0.9841  |  0:17:21s\n",
      "epoch 17 | loss: 0.9824  |  0:18:16s\n",
      "epoch 18 | loss: 0.98352 |  0:19:19s\n",
      "epoch 19 | loss: 0.98351 |  0:20:21s\n",
      "epoch 20 | loss: 0.98254 |  0:21:21s\n",
      "epoch 21 | loss: 0.98181 |  0:22:13s\n",
      "epoch 22 | loss: 0.98183 |  0:23:02s\n",
      "epoch 23 | loss: 0.98205 |  0:23:56s\n",
      "epoch 24 | loss: 0.9815  |  0:24:57s\n",
      "epoch 25 | loss: 0.9806  |  0:25:52s\n",
      "epoch 26 | loss: 0.98009 |  0:26:53s\n",
      "epoch 27 | loss: 0.98141 |  0:27:43s\n",
      "epoch 28 | loss: 0.98124 |  0:28:32s\n",
      "epoch 29 | loss: 0.97942 |  0:29:24s\n",
      "epoch 30 | loss: 0.98008 |  0:30:16s\n",
      "epoch 31 | loss: 0.98074 |  0:31:08s\n",
      "epoch 32 | loss: 0.98106 |  0:32:04s\n",
      "epoch 33 | loss: 0.97995 |  0:32:54s\n",
      "epoch 34 | loss: 0.98056 |  0:33:45s\n",
      "epoch 35 | loss: 0.97877 |  0:34:34s\n",
      "epoch 36 | loss: 0.97988 |  0:35:30s\n",
      "epoch 37 | loss: 0.97991 |  0:36:26s\n",
      "epoch 38 | loss: 0.98167 |  0:37:21s\n",
      "epoch 39 | loss: 0.97953 |  0:38:22s\n",
      "epoch 40 | loss: 0.97982 |  0:39:27s\n",
      "epoch 41 | loss: 0.97897 |  0:40:29s\n",
      "epoch 42 | loss: 0.97912 |  0:41:32s\n",
      "epoch 43 | loss: 0.97926 |  0:42:25s\n",
      "epoch 44 | loss: 0.9798  |  0:43:16s\n",
      "epoch 45 | loss: 0.97956 |  0:44:08s\n",
      "epoch 46 | loss: 0.97893 |  0:45:03s\n",
      "epoch 47 | loss: 0.97951 |  0:45:55s\n",
      "epoch 48 | loss: 0.97871 |  0:46:50s\n",
      "epoch 49 | loss: 0.97933 |  0:47:40s\n",
      "epoch 50 | loss: 0.97968 |  0:48:30s\n",
      "epoch 51 | loss: 0.9785  |  0:49:22s\n",
      "epoch 52 | loss: 0.9791  |  0:50:14s\n",
      "epoch 53 | loss: 0.97823 |  0:51:03s\n",
      "epoch 54 | loss: 0.97815 |  0:51:54s\n",
      "epoch 55 | loss: 0.9791  |  0:52:46s\n",
      "epoch 56 | loss: 0.97896 |  0:53:45s\n",
      "epoch 57 | loss: 0.97781 |  0:54:48s\n"
     ]
    },
    {
     "ename": "KeyboardInterrupt",
     "evalue": "",
     "output_type": "error",
     "traceback": [
      "\u001b[31m---------------------------------------------------------------------------\u001b[39m",
      "\u001b[31mKeyboardInterrupt\u001b[39m                         Traceback (most recent call last)",
      "\u001b[36mCell\u001b[39m\u001b[36m \u001b[39m\u001b[32mIn[19]\u001b[39m\u001b[32m, line 17\u001b[39m\n\u001b[32m     10\u001b[39m es = EarlyStopping(\n\u001b[32m     11\u001b[39m     patience=\u001b[32m20\u001b[39m,\n\u001b[32m     12\u001b[39m     early_stopping_metric=\u001b[33m\"\u001b[39m\u001b[33mloss\u001b[39m\u001b[33m\"\u001b[39m,  \u001b[38;5;66;03m# Metric to monitor\u001b[39;00m\n\u001b[32m     13\u001b[39m     is_maximize=\u001b[38;5;28;01mFalse\u001b[39;00m              \u001b[38;5;66;03m# Set to False for minimizing loss\u001b[39;00m\n\u001b[32m     14\u001b[39m )\n\u001b[32m     16\u001b[39m \u001b[38;5;66;03m# fit with callbacks and verbose logging\u001b[39;00m\n\u001b[32m---> \u001b[39m\u001b[32m17\u001b[39m \u001b[43mpretrainer\u001b[49m\u001b[43m.\u001b[49m\u001b[43mfit\u001b[49m\u001b[43m(\u001b[49m\n\u001b[32m     18\u001b[39m \u001b[43m    \u001b[49m\u001b[43mX_train\u001b[49m\u001b[43m,\u001b[49m\n\u001b[32m     19\u001b[39m \u001b[43m    \u001b[49m\u001b[43mmax_epochs\u001b[49m\u001b[43m=\u001b[49m\u001b[32;43m100\u001b[39;49m\u001b[43m,\u001b[49m\n\u001b[32m     20\u001b[39m \u001b[43m    \u001b[49m\u001b[43mbatch_size\u001b[49m\u001b[43m=\u001b[49m\u001b[32;43m1024\u001b[39;49m\u001b[43m,\u001b[49m\n\u001b[32m     21\u001b[39m \u001b[43m    \u001b[49m\u001b[43mvirtual_batch_size\u001b[49m\u001b[43m=\u001b[49m\u001b[32;43m128\u001b[39;49m\u001b[43m,\u001b[49m\n\u001b[32m     22\u001b[39m \u001b[43m    \u001b[49m\u001b[43mpretraining_ratio\u001b[49m\u001b[43m=\u001b[49m\u001b[32;43m0.8\u001b[39;49m\u001b[43m,\u001b[49m\n\u001b[32m     23\u001b[39m \u001b[43m    \u001b[49m\u001b[43mnum_workers\u001b[49m\u001b[43m=\u001b[49m\u001b[32;43m3\u001b[39;49m\u001b[43m,\u001b[49m\n\u001b[32m     24\u001b[39m \u001b[43m    \u001b[49m\u001b[43mdrop_last\u001b[49m\u001b[43m=\u001b[49m\u001b[38;5;28;43;01mFalse\u001b[39;49;00m\u001b[43m,\u001b[49m\n\u001b[32m     25\u001b[39m \u001b[43m    \u001b[49m\u001b[43mcallbacks\u001b[49m\u001b[43m=\u001b[49m\u001b[43m[\u001b[49m\u001b[43mes\u001b[49m\u001b[43m]\u001b[49m\n\u001b[32m     26\u001b[39m \n\u001b[32m     27\u001b[39m \u001b[43m)\u001b[49m\n\u001b[32m     29\u001b[39m pretrainer.save_model(\u001b[33m\"\u001b[39m\u001b[33m../models/tabnet_pretrainer\u001b[39m\u001b[33m\"\u001b[39m)\n\u001b[32m     30\u001b[39m \u001b[38;5;28mprint\u001b[39m(\u001b[33m\"\u001b[39m\u001b[33m✅ Pretraining complete.\u001b[39m\u001b[33m\"\u001b[39m)\n",
      "\u001b[36mFile \u001b[39m\u001b[32mc:\\Users\\hp\\Innovative-ml-project\\NEW-ML-PROJECT\\.venv\\Lib\\site-packages\\pytorch_tabnet\\pretraining.py:155\u001b[39m, in \u001b[36mTabNetPretrainer.fit\u001b[39m\u001b[34m(self, X_train, eval_set, eval_name, loss_fn, pretraining_ratio, weights, max_epochs, patience, batch_size, virtual_batch_size, num_workers, drop_last, callbacks, pin_memory, warm_start)\u001b[39m\n\u001b[32m    150\u001b[39m \u001b[38;5;28;01mfor\u001b[39;00m epoch_idx \u001b[38;5;129;01min\u001b[39;00m \u001b[38;5;28mrange\u001b[39m(\u001b[38;5;28mself\u001b[39m.max_epochs):\n\u001b[32m    151\u001b[39m \n\u001b[32m    152\u001b[39m     \u001b[38;5;66;03m# Call method on_epoch_begin for all callbacks\u001b[39;00m\n\u001b[32m    153\u001b[39m     \u001b[38;5;28mself\u001b[39m._callback_container.on_epoch_begin(epoch_idx)\n\u001b[32m--> \u001b[39m\u001b[32m155\u001b[39m     \u001b[38;5;28;43mself\u001b[39;49m\u001b[43m.\u001b[49m\u001b[43m_train_epoch\u001b[49m\u001b[43m(\u001b[49m\u001b[43mtrain_dataloader\u001b[49m\u001b[43m)\u001b[49m\n\u001b[32m    157\u001b[39m     \u001b[38;5;66;03m# Apply predict epoch to all eval sets\u001b[39;00m\n\u001b[32m    158\u001b[39m     \u001b[38;5;28;01mfor\u001b[39;00m eval_name, valid_dataloader \u001b[38;5;129;01min\u001b[39;00m \u001b[38;5;28mzip\u001b[39m(eval_names, valid_dataloaders):\n",
      "\u001b[36mFile \u001b[39m\u001b[32mc:\\Users\\hp\\Innovative-ml-project\\NEW-ML-PROJECT\\.venv\\Lib\\site-packages\\pytorch_tabnet\\pretraining.py:285\u001b[39m, in \u001b[36mTabNetPretrainer._train_epoch\u001b[39m\u001b[34m(self, train_loader)\u001b[39m\n\u001b[32m    275\u001b[39m \u001b[38;5;250m\u001b[39m\u001b[33;03m\"\"\"\u001b[39;00m\n\u001b[32m    276\u001b[39m \u001b[33;03mTrains one epoch of the network in self.network\u001b[39;00m\n\u001b[32m    277\u001b[39m \n\u001b[32m   (...)\u001b[39m\u001b[32m    281\u001b[39m \u001b[33;03m    DataLoader with train set\u001b[39;00m\n\u001b[32m    282\u001b[39m \u001b[33;03m\"\"\"\u001b[39;00m\n\u001b[32m    283\u001b[39m \u001b[38;5;28mself\u001b[39m.network.train()\n\u001b[32m--> \u001b[39m\u001b[32m285\u001b[39m \u001b[38;5;28;01mfor\u001b[39;00m batch_idx, X \u001b[38;5;129;01min\u001b[39;00m \u001b[38;5;28;43menumerate\u001b[39;49m\u001b[43m(\u001b[49m\u001b[43mtrain_loader\u001b[49m\u001b[43m)\u001b[49m:\n\u001b[32m    286\u001b[39m     \u001b[38;5;28mself\u001b[39m._callback_container.on_batch_begin(batch_idx)\n\u001b[32m    288\u001b[39m     batch_logs = \u001b[38;5;28mself\u001b[39m._train_batch(X)\n",
      "\u001b[36mFile \u001b[39m\u001b[32mc:\\Users\\hp\\Innovative-ml-project\\NEW-ML-PROJECT\\.venv\\Lib\\site-packages\\torch\\utils\\data\\dataloader.py:491\u001b[39m, in \u001b[36mDataLoader.__iter__\u001b[39m\u001b[34m(self)\u001b[39m\n\u001b[32m    489\u001b[39m     \u001b[38;5;28;01mreturn\u001b[39;00m \u001b[38;5;28mself\u001b[39m._iterator\n\u001b[32m    490\u001b[39m \u001b[38;5;28;01melse\u001b[39;00m:\n\u001b[32m--> \u001b[39m\u001b[32m491\u001b[39m     \u001b[38;5;28;01mreturn\u001b[39;00m \u001b[38;5;28;43mself\u001b[39;49m\u001b[43m.\u001b[49m\u001b[43m_get_iterator\u001b[49m\u001b[43m(\u001b[49m\u001b[43m)\u001b[49m\n",
      "\u001b[36mFile \u001b[39m\u001b[32mc:\\Users\\hp\\Innovative-ml-project\\NEW-ML-PROJECT\\.venv\\Lib\\site-packages\\torch\\utils\\data\\dataloader.py:422\u001b[39m, in \u001b[36mDataLoader._get_iterator\u001b[39m\u001b[34m(self)\u001b[39m\n\u001b[32m    420\u001b[39m \u001b[38;5;28;01melse\u001b[39;00m:\n\u001b[32m    421\u001b[39m     \u001b[38;5;28mself\u001b[39m.check_worker_number_rationality()\n\u001b[32m--> \u001b[39m\u001b[32m422\u001b[39m     \u001b[38;5;28;01mreturn\u001b[39;00m \u001b[43m_MultiProcessingDataLoaderIter\u001b[49m\u001b[43m(\u001b[49m\u001b[38;5;28;43mself\u001b[39;49m\u001b[43m)\u001b[49m\n",
      "\u001b[36mFile \u001b[39m\u001b[32mc:\\Users\\hp\\Innovative-ml-project\\NEW-ML-PROJECT\\.venv\\Lib\\site-packages\\torch\\utils\\data\\dataloader.py:1146\u001b[39m, in \u001b[36m_MultiProcessingDataLoaderIter.__init__\u001b[39m\u001b[34m(self, loader)\u001b[39m\n\u001b[32m   1139\u001b[39m w.daemon = \u001b[38;5;28;01mTrue\u001b[39;00m\n\u001b[32m   1140\u001b[39m \u001b[38;5;66;03m# NB: Process.start() actually take some time as it needs to\u001b[39;00m\n\u001b[32m   1141\u001b[39m \u001b[38;5;66;03m#     start a process and pass the arguments over via a pipe.\u001b[39;00m\n\u001b[32m   1142\u001b[39m \u001b[38;5;66;03m#     Therefore, we only add a worker to self._workers list after\u001b[39;00m\n\u001b[32m   1143\u001b[39m \u001b[38;5;66;03m#     it started, so that we do not call .join() if program dies\u001b[39;00m\n\u001b[32m   1144\u001b[39m \u001b[38;5;66;03m#     before it starts, and __del__ tries to join but will get:\u001b[39;00m\n\u001b[32m   1145\u001b[39m \u001b[38;5;66;03m#     AssertionError: can only join a started process.\u001b[39;00m\n\u001b[32m-> \u001b[39m\u001b[32m1146\u001b[39m \u001b[43mw\u001b[49m\u001b[43m.\u001b[49m\u001b[43mstart\u001b[49m\u001b[43m(\u001b[49m\u001b[43m)\u001b[49m\n\u001b[32m   1147\u001b[39m \u001b[38;5;28mself\u001b[39m._index_queues.append(index_queue)\n\u001b[32m   1148\u001b[39m \u001b[38;5;28mself\u001b[39m._workers.append(w)\n",
      "\u001b[36mFile \u001b[39m\u001b[32mC:\\Python313\\Lib\\multiprocessing\\process.py:121\u001b[39m, in \u001b[36mBaseProcess.start\u001b[39m\u001b[34m(self)\u001b[39m\n\u001b[32m    118\u001b[39m \u001b[38;5;28;01massert\u001b[39;00m \u001b[38;5;129;01mnot\u001b[39;00m _current_process._config.get(\u001b[33m'\u001b[39m\u001b[33mdaemon\u001b[39m\u001b[33m'\u001b[39m), \\\n\u001b[32m    119\u001b[39m        \u001b[33m'\u001b[39m\u001b[33mdaemonic processes are not allowed to have children\u001b[39m\u001b[33m'\u001b[39m\n\u001b[32m    120\u001b[39m _cleanup()\n\u001b[32m--> \u001b[39m\u001b[32m121\u001b[39m \u001b[38;5;28mself\u001b[39m._popen = \u001b[38;5;28;43mself\u001b[39;49m\u001b[43m.\u001b[49m\u001b[43m_Popen\u001b[49m\u001b[43m(\u001b[49m\u001b[38;5;28;43mself\u001b[39;49m\u001b[43m)\u001b[49m\n\u001b[32m    122\u001b[39m \u001b[38;5;28mself\u001b[39m._sentinel = \u001b[38;5;28mself\u001b[39m._popen.sentinel\n\u001b[32m    123\u001b[39m \u001b[38;5;66;03m# Avoid a refcycle if the target function holds an indirect\u001b[39;00m\n\u001b[32m    124\u001b[39m \u001b[38;5;66;03m# reference to the process object (see bpo-30775)\u001b[39;00m\n",
      "\u001b[36mFile \u001b[39m\u001b[32mC:\\Python313\\Lib\\multiprocessing\\context.py:224\u001b[39m, in \u001b[36mProcess._Popen\u001b[39m\u001b[34m(process_obj)\u001b[39m\n\u001b[32m    222\u001b[39m \u001b[38;5;129m@staticmethod\u001b[39m\n\u001b[32m    223\u001b[39m \u001b[38;5;28;01mdef\u001b[39;00m\u001b[38;5;250m \u001b[39m\u001b[34m_Popen\u001b[39m(process_obj):\n\u001b[32m--> \u001b[39m\u001b[32m224\u001b[39m     \u001b[38;5;28;01mreturn\u001b[39;00m \u001b[43m_default_context\u001b[49m\u001b[43m.\u001b[49m\u001b[43mget_context\u001b[49m\u001b[43m(\u001b[49m\u001b[43m)\u001b[49m\u001b[43m.\u001b[49m\u001b[43mProcess\u001b[49m\u001b[43m.\u001b[49m\u001b[43m_Popen\u001b[49m\u001b[43m(\u001b[49m\u001b[43mprocess_obj\u001b[49m\u001b[43m)\u001b[49m\n",
      "\u001b[36mFile \u001b[39m\u001b[32mC:\\Python313\\Lib\\multiprocessing\\context.py:337\u001b[39m, in \u001b[36mSpawnProcess._Popen\u001b[39m\u001b[34m(process_obj)\u001b[39m\n\u001b[32m    334\u001b[39m \u001b[38;5;129m@staticmethod\u001b[39m\n\u001b[32m    335\u001b[39m \u001b[38;5;28;01mdef\u001b[39;00m\u001b[38;5;250m \u001b[39m\u001b[34m_Popen\u001b[39m(process_obj):\n\u001b[32m    336\u001b[39m     \u001b[38;5;28;01mfrom\u001b[39;00m\u001b[38;5;250m \u001b[39m\u001b[34;01m.\u001b[39;00m\u001b[34;01mpopen_spawn_win32\u001b[39;00m\u001b[38;5;250m \u001b[39m\u001b[38;5;28;01mimport\u001b[39;00m Popen\n\u001b[32m--> \u001b[39m\u001b[32m337\u001b[39m     \u001b[38;5;28;01mreturn\u001b[39;00m \u001b[43mPopen\u001b[49m\u001b[43m(\u001b[49m\u001b[43mprocess_obj\u001b[49m\u001b[43m)\u001b[49m\n",
      "\u001b[36mFile \u001b[39m\u001b[32mC:\\Python313\\Lib\\multiprocessing\\popen_spawn_win32.py:97\u001b[39m, in \u001b[36mPopen.__init__\u001b[39m\u001b[34m(self, process_obj)\u001b[39m\n\u001b[32m     95\u001b[39m \u001b[38;5;28;01mtry\u001b[39;00m:\n\u001b[32m     96\u001b[39m     reduction.dump(prep_data, to_child)\n\u001b[32m---> \u001b[39m\u001b[32m97\u001b[39m     \u001b[43mreduction\u001b[49m\u001b[43m.\u001b[49m\u001b[43mdump\u001b[49m\u001b[43m(\u001b[49m\u001b[43mprocess_obj\u001b[49m\u001b[43m,\u001b[49m\u001b[43m \u001b[49m\u001b[43mto_child\u001b[49m\u001b[43m)\u001b[49m\n\u001b[32m     98\u001b[39m \u001b[38;5;28;01mfinally\u001b[39;00m:\n\u001b[32m     99\u001b[39m     set_spawning_popen(\u001b[38;5;28;01mNone\u001b[39;00m)\n",
      "\u001b[36mFile \u001b[39m\u001b[32mC:\\Python313\\Lib\\multiprocessing\\reduction.py:60\u001b[39m, in \u001b[36mdump\u001b[39m\u001b[34m(obj, file, protocol)\u001b[39m\n\u001b[32m     58\u001b[39m \u001b[38;5;28;01mdef\u001b[39;00m\u001b[38;5;250m \u001b[39m\u001b[34mdump\u001b[39m(obj, file, protocol=\u001b[38;5;28;01mNone\u001b[39;00m):\n\u001b[32m     59\u001b[39m \u001b[38;5;250m    \u001b[39m\u001b[33;03m'''Replacement for pickle.dump() using ForkingPickler.'''\u001b[39;00m\n\u001b[32m---> \u001b[39m\u001b[32m60\u001b[39m     \u001b[43mForkingPickler\u001b[49m\u001b[43m(\u001b[49m\u001b[43mfile\u001b[49m\u001b[43m,\u001b[49m\u001b[43m \u001b[49m\u001b[43mprotocol\u001b[49m\u001b[43m)\u001b[49m\u001b[43m.\u001b[49m\u001b[43mdump\u001b[49m\u001b[43m(\u001b[49m\u001b[43mobj\u001b[49m\u001b[43m)\u001b[49m\n",
      "\u001b[31mKeyboardInterrupt\u001b[39m: "
     ]
    }
   ],
   "source": [
    "# 7) Self‑Supervised Pretraining\n",
    "# ────────────────────────────────\n",
    "from pytorch_tabnet.callbacks import EarlyStopping\n",
    "\n",
    "pretrainer = TabNetPretrainer(\n",
    "    input_dim=X_train.shape[1],\n",
    "    mask_type='entmax'  # sparsity in masks\n",
    ")\n",
    "# define callbacks\n",
    "es = EarlyStopping(\n",
    "    patience=20,\n",
    "    early_stopping_metric=\"loss\",  # Metric to monitor\n",
    "    is_maximize=False              # Set to False for minimizing loss\n",
    ")\n",
    "\n",
    "# fit with callbacks and verbose logging\n",
    "pretrainer.fit(\n",
    "    X_train,\n",
    "    max_epochs=100,\n",
    "    batch_size=1024,\n",
    "    virtual_batch_size=128,\n",
    "    pretraining_ratio=0.8,\n",
    "    num_workers=3,\n",
    "    drop_last=False,\n",
    "    callbacks=[es]\n",
    "    \n",
    ")\n",
    "\n",
    "pretrainer.save_model(\"../models/tabnet_pretrainer\")\n",
    "print(\"✅ Pretraining complete.\")"
   ]
  },
  {
   "cell_type": "code",
   "execution_count": null,
   "id": "964fd047",
   "metadata": {},
   "outputs": [
    {
     "name": "stderr",
     "output_type": "stream",
     "text": [
      "c:\\Users\\hp\\Innovative-ml-project\\NEW-ML-PROJECT\\.venv\\Lib\\site-packages\\pytorch_tabnet\\abstract_model.py:82: UserWarning: Device used : cpu\n",
      "  warnings.warn(f\"Device used : {self.device}\")\n"
     ]
    }
   ],
   "source": [
    "# 8) Fine‑Tuning as Regressor\n",
    "# ────────────────────────────\n",
    "regressor = TabNetRegressor(\n",
    "    input_dim=X_train.shape[1],\n",
    "    output_dim=1,\n",
    "    optimizer_fn=torch.optim.Adam,\n",
    "    optimizer_params={\"lr\":1e-3, \"weight_decay\":1e-4},\n",
    "    scheduler_params={\"step_size\":50, \"gamma\":0.9},\n",
    "    scheduler_fn=torch.optim.lr_scheduler.StepLR\n",
    ")\n",
    "\n",
    "# load pretrained encoder weights\n",
    "# Instead of regressor.load_weights_from_unsupervised(pretrainer)\n",
    "# use the following:\n",
    "regressor._set_network() # Initialize the network attribute\n",
    "regressor.load_weights_from_unsupervised(pretrainer) # Load weights"
   ]
  },
  {
   "cell_type": "code",
   "execution_count": null,
   "id": "7c68689d",
   "metadata": {},
   "outputs": [
    {
     "name": "stdout",
     "output_type": "stream",
     "text": [
      "epoch 0  | loss: 53.24846| test_mse: 4.43097 |  0:00:49s\n",
      "epoch 1  | loss: 3.36528 | test_mse: 0.8433  |  0:01:44s\n",
      "epoch 2  | loss: 1.70072 | test_mse: 0.47542 |  0:02:39s\n",
      "epoch 3  | loss: 1.19859 | test_mse: 0.27193 |  0:03:35s\n",
      "epoch 4  | loss: 0.99804 | test_mse: 0.28417 |  0:04:30s\n",
      "epoch 5  | loss: 0.85287 | test_mse: 0.15566 |  0:05:25s\n",
      "epoch 6  | loss: 0.73666 | test_mse: 0.19648 |  0:06:20s\n",
      "epoch 7  | loss: 0.6465  | test_mse: 0.20585 |  0:07:08s\n",
      "epoch 8  | loss: 0.57168 | test_mse: 0.45007 |  0:08:03s\n",
      "epoch 9  | loss: 0.552   | test_mse: 0.1112  |  0:08:57s\n",
      "epoch 10 | loss: 0.48629 | test_mse: 0.2328  |  0:09:46s\n",
      "epoch 11 | loss: 0.43564 | test_mse: 0.12064 |  0:10:32s\n",
      "epoch 12 | loss: 0.38783 | test_mse: 0.13389 |  0:11:20s\n",
      "epoch 13 | loss: 0.39943 | test_mse: 0.2317  |  0:12:26s\n",
      "epoch 14 | loss: 0.3571  | test_mse: 0.0922  |  0:14:19s\n",
      "epoch 15 | loss: 0.34976 | test_mse: 0.09242 |  0:16:23s\n",
      "epoch 16 | loss: 0.32643 | test_mse: 0.13798 |  0:18:16s\n",
      "epoch 17 | loss: 0.32111 | test_mse: 0.12719 |  0:20:12s\n",
      "epoch 18 | loss: 0.30816 | test_mse: 0.09555 |  0:21:21s\n",
      "epoch 19 | loss: 0.30203 | test_mse: 0.06914 |  0:22:44s\n",
      "Stop training because you reached max_epochs = 20 with best_epoch = 19 and best_test_mse = 0.06914\n"
     ]
    },
    {
     "name": "stderr",
     "output_type": "stream",
     "text": [
      "c:\\Users\\hp\\Innovative-ml-project\\NEW-ML-PROJECT\\.venv\\Lib\\site-packages\\pytorch_tabnet\\callbacks.py:172: UserWarning: Best weights from best epoch are automatically used!\n",
      "  warnings.warn(wrn_msg)\n"
     ]
    }
   ],
   "source": [
    "\n",
    "# fit on train, evaluate on test\n",
    "regressor.fit(\n",
    "    X_train, y_train,\n",
    "    eval_set=[(X_test, y_test)],\n",
    "    eval_name=['test'],\n",
    "    max_epochs=100,\n",
    "    patience=30,\n",
    "    batch_size=1024,\n",
    "    virtual_batch_size=128,\n",
    "    num_workers=3,\n",
    "    drop_last=False\n",
    ")"
   ]
  },
  {
   "cell_type": "code",
   "execution_count": null,
   "id": "327df0b3",
   "metadata": {},
   "outputs": [
    {
     "name": "stdout",
     "output_type": "stream",
     "text": [
      "Successfully saved model at ../models/tabnet_regressor.zip\n",
      "✅ Fine‑tuning complete. Model saved to models/tabnet_regressor.zip\n"
     ]
    }
   ],
   "source": [
    "# Save the fine‑tuned model\n",
    "regressor.save_model(\"../models/tabnet_regressor\")\n",
    "print(\"✅ Fine‑tuning complete. Model saved to models/tabnet_regressor.zip\")"
   ]
  }
 ],
 "metadata": {
  "kernelspec": {
   "display_name": ".venv",
   "language": "python",
   "name": "python3"
  },
  "language_info": {
   "codemirror_mode": {
    "name": "ipython",
    "version": 3
   },
   "file_extension": ".py",
   "mimetype": "text/x-python",
   "name": "python",
   "nbconvert_exporter": "python",
   "pygments_lexer": "ipython3",
   "version": "3.13.1"
  }
 },
 "nbformat": 4,
 "nbformat_minor": 5
}
